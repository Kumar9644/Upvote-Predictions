{
 "cells": [
  {
   "cell_type": "code",
   "execution_count": 39,
   "id": "clear-permission",
   "metadata": {},
   "outputs": [],
   "source": [
    "import pandas as pd\n",
    "import numpy as np\n",
    "import seaborn as sns \n",
    "import matplotlib.pyplot as plt\n",
    "from sklearn.pipeline import Pipeline\n",
    "from sklearn.linear_model import LinearRegression\n",
    "from sklearn.tree import DecisionTreeRegressor\n",
    "from sklearn.ensemble import RandomForestRegressor\n",
    "from sklearn.preprocessing import StandardScaler,PolynomialFeatures,OneHotEncoder,LabelEncoder\n",
    "from sklearn.metrics import *\n",
    "from sklearn.model_selection import GridSearchCV\n",
    "from sklearn.compose import ColumnTransformer"
   ]
  },
  {
   "cell_type": "code",
   "execution_count": 4,
   "id": "durable-knight",
   "metadata": {},
   "outputs": [],
   "source": [
    "df=pd.read_csv('F:\\Analytics vidya\\\\train.csv')"
   ]
  },
  {
   "cell_type": "code",
   "execution_count": 5,
   "id": "governing-appeal",
   "metadata": {},
   "outputs": [
    {
     "data": {
      "text/html": [
       "<div>\n",
       "<style scoped>\n",
       "    .dataframe tbody tr th:only-of-type {\n",
       "        vertical-align: middle;\n",
       "    }\n",
       "\n",
       "    .dataframe tbody tr th {\n",
       "        vertical-align: top;\n",
       "    }\n",
       "\n",
       "    .dataframe thead th {\n",
       "        text-align: right;\n",
       "    }\n",
       "</style>\n",
       "<table border=\"1\" class=\"dataframe\">\n",
       "  <thead>\n",
       "    <tr style=\"text-align: right;\">\n",
       "      <th></th>\n",
       "      <th>Tag</th>\n",
       "      <th>Reputation</th>\n",
       "      <th>Answers</th>\n",
       "      <th>Views</th>\n",
       "      <th>Upvotes</th>\n",
       "    </tr>\n",
       "  </thead>\n",
       "  <tbody>\n",
       "    <tr>\n",
       "      <th>0</th>\n",
       "      <td>a</td>\n",
       "      <td>3942.0</td>\n",
       "      <td>2.0</td>\n",
       "      <td>7855.0</td>\n",
       "      <td>42.0</td>\n",
       "    </tr>\n",
       "    <tr>\n",
       "      <th>1</th>\n",
       "      <td>a</td>\n",
       "      <td>26046.0</td>\n",
       "      <td>12.0</td>\n",
       "      <td>55801.0</td>\n",
       "      <td>1175.0</td>\n",
       "    </tr>\n",
       "    <tr>\n",
       "      <th>2</th>\n",
       "      <td>c</td>\n",
       "      <td>1358.0</td>\n",
       "      <td>4.0</td>\n",
       "      <td>8067.0</td>\n",
       "      <td>60.0</td>\n",
       "    </tr>\n",
       "    <tr>\n",
       "      <th>3</th>\n",
       "      <td>a</td>\n",
       "      <td>264.0</td>\n",
       "      <td>3.0</td>\n",
       "      <td>27064.0</td>\n",
       "      <td>9.0</td>\n",
       "    </tr>\n",
       "    <tr>\n",
       "      <th>4</th>\n",
       "      <td>c</td>\n",
       "      <td>4271.0</td>\n",
       "      <td>4.0</td>\n",
       "      <td>13986.0</td>\n",
       "      <td>83.0</td>\n",
       "    </tr>\n",
       "  </tbody>\n",
       "</table>\n",
       "</div>"
      ],
      "text/plain": [
       "  Tag  Reputation  Answers    Views  Upvotes\n",
       "0   a      3942.0      2.0   7855.0     42.0\n",
       "1   a     26046.0     12.0  55801.0   1175.0\n",
       "2   c      1358.0      4.0   8067.0     60.0\n",
       "3   a       264.0      3.0  27064.0      9.0\n",
       "4   c      4271.0      4.0  13986.0     83.0"
      ]
     },
     "execution_count": 5,
     "metadata": {},
     "output_type": "execute_result"
    }
   ],
   "source": [
    "df=df.drop(['ID','Username'],axis=1)\n",
    "df.head()"
   ]
  },
  {
   "cell_type": "code",
   "execution_count": 24,
   "id": "expensive-breathing",
   "metadata": {},
   "outputs": [],
   "source": [
    "min_,max_=df['Views'].quantile([0.005,0.95])"
   ]
  },
  {
   "cell_type": "code",
   "execution_count": 27,
   "id": "stuck-sponsorship",
   "metadata": {},
   "outputs": [
    {
     "data": {
      "text/html": [
       "<div>\n",
       "<style scoped>\n",
       "    .dataframe tbody tr th:only-of-type {\n",
       "        vertical-align: middle;\n",
       "    }\n",
       "\n",
       "    .dataframe tbody tr th {\n",
       "        vertical-align: top;\n",
       "    }\n",
       "\n",
       "    .dataframe thead th {\n",
       "        text-align: right;\n",
       "    }\n",
       "</style>\n",
       "<table border=\"1\" class=\"dataframe\">\n",
       "  <thead>\n",
       "    <tr style=\"text-align: right;\">\n",
       "      <th></th>\n",
       "      <th>Tag</th>\n",
       "      <th>Reputation</th>\n",
       "      <th>Answers</th>\n",
       "      <th>Views</th>\n",
       "      <th>Upvotes</th>\n",
       "    </tr>\n",
       "  </thead>\n",
       "  <tbody>\n",
       "    <tr>\n",
       "      <th>10</th>\n",
       "      <td>c</td>\n",
       "      <td>1142.0</td>\n",
       "      <td>7.0</td>\n",
       "      <td>141836.0</td>\n",
       "      <td>166.0</td>\n",
       "    </tr>\n",
       "    <tr>\n",
       "      <th>37</th>\n",
       "      <td>h</td>\n",
       "      <td>18404.0</td>\n",
       "      <td>13.0</td>\n",
       "      <td>118423.0</td>\n",
       "      <td>2963.0</td>\n",
       "    </tr>\n",
       "    <tr>\n",
       "      <th>95</th>\n",
       "      <td>j</td>\n",
       "      <td>19027.0</td>\n",
       "      <td>41.0</td>\n",
       "      <td>752007.0</td>\n",
       "      <td>12565.0</td>\n",
       "    </tr>\n",
       "    <tr>\n",
       "      <th>98</th>\n",
       "      <td>j</td>\n",
       "      <td>13684.0</td>\n",
       "      <td>4.0</td>\n",
       "      <td>124171.0</td>\n",
       "      <td>1739.0</td>\n",
       "    </tr>\n",
       "    <tr>\n",
       "      <th>100</th>\n",
       "      <td>s</td>\n",
       "      <td>2945.0</td>\n",
       "      <td>13.0</td>\n",
       "      <td>281031.0</td>\n",
       "      <td>804.0</td>\n",
       "    </tr>\n",
       "    <tr>\n",
       "      <th>...</th>\n",
       "      <td>...</td>\n",
       "      <td>...</td>\n",
       "      <td>...</td>\n",
       "      <td>...</td>\n",
       "      <td>...</td>\n",
       "    </tr>\n",
       "    <tr>\n",
       "      <th>329777</th>\n",
       "      <td>j</td>\n",
       "      <td>3087.0</td>\n",
       "      <td>4.0</td>\n",
       "      <td>242087.0</td>\n",
       "      <td>675.0</td>\n",
       "    </tr>\n",
       "    <tr>\n",
       "      <th>329796</th>\n",
       "      <td>j</td>\n",
       "      <td>34077.0</td>\n",
       "      <td>5.0</td>\n",
       "      <td>118157.0</td>\n",
       "      <td>6420.0</td>\n",
       "    </tr>\n",
       "    <tr>\n",
       "      <th>329912</th>\n",
       "      <td>j</td>\n",
       "      <td>19392.0</td>\n",
       "      <td>6.0</td>\n",
       "      <td>121854.0</td>\n",
       "      <td>8067.0</td>\n",
       "    </tr>\n",
       "    <tr>\n",
       "      <th>329954</th>\n",
       "      <td>j</td>\n",
       "      <td>5902.0</td>\n",
       "      <td>6.0</td>\n",
       "      <td>189390.0</td>\n",
       "      <td>1825.0</td>\n",
       "    </tr>\n",
       "    <tr>\n",
       "      <th>329963</th>\n",
       "      <td>j</td>\n",
       "      <td>91541.0</td>\n",
       "      <td>14.0</td>\n",
       "      <td>555311.0</td>\n",
       "      <td>45611.0</td>\n",
       "    </tr>\n",
       "  </tbody>\n",
       "</table>\n",
       "<p>16503 rows × 5 columns</p>\n",
       "</div>"
      ],
      "text/plain": [
       "       Tag  Reputation  Answers     Views  Upvotes\n",
       "10       c      1142.0      7.0  141836.0    166.0\n",
       "37       h     18404.0     13.0  118423.0   2963.0\n",
       "95       j     19027.0     41.0  752007.0  12565.0\n",
       "98       j     13684.0      4.0  124171.0   1739.0\n",
       "100      s      2945.0     13.0  281031.0    804.0\n",
       "...     ..         ...      ...       ...      ...\n",
       "329777   j      3087.0      4.0  242087.0    675.0\n",
       "329796   j     34077.0      5.0  118157.0   6420.0\n",
       "329912   j     19392.0      6.0  121854.0   8067.0\n",
       "329954   j      5902.0      6.0  189390.0   1825.0\n",
       "329963   j     91541.0     14.0  555311.0  45611.0\n",
       "\n",
       "[16503 rows x 5 columns]"
      ]
     },
     "execution_count": 27,
     "metadata": {},
     "output_type": "execute_result"
    }
   ],
   "source": [
    "df[df['Views']>max_]"
   ]
  },
  {
   "cell_type": "code",
   "execution_count": 28,
   "id": "informative-template",
   "metadata": {},
   "outputs": [],
   "source": [
    "df_new=df[(df['Views']<max_) & (df['Views']>min_)]"
   ]
  },
  {
   "cell_type": "code",
   "execution_count": 29,
   "id": "painful-algorithm",
   "metadata": {},
   "outputs": [
    {
     "data": {
      "text/plain": [
       "(311865, 5)"
      ]
     },
     "execution_count": 29,
     "metadata": {},
     "output_type": "execute_result"
    }
   ],
   "source": [
    "df_new.shape"
   ]
  },
  {
   "cell_type": "code",
   "execution_count": 51,
   "id": "unknown-exhaust",
   "metadata": {},
   "outputs": [],
   "source": [
    "X=df_new.drop('Upvotes',axis=1)\n",
    "y=df_new.Upvotes"
   ]
  },
  {
   "cell_type": "code",
   "execution_count": 52,
   "id": "medieval-transition",
   "metadata": {},
   "outputs": [],
   "source": [
    "from sklearn.model_selection import train_test_split\n",
    "x_train,x_test,y_train,y_test=train_test_split(X,y,test_size=0.2,random_state=0)"
   ]
  },
  {
   "cell_type": "code",
   "execution_count": 41,
   "id": "random-corrections",
   "metadata": {},
   "outputs": [],
   "source": [
    "cat_cols=[i for i in x_train.columns if x_train[i].dtype=='object']"
   ]
  },
  {
   "cell_type": "code",
   "execution_count": 54,
   "id": "cloudy-termination",
   "metadata": {},
   "outputs": [
    {
     "name": "stderr",
     "output_type": "stream",
     "text": [
      "C:\\Users\\hemje\\anaconda3\\lib\\site-packages\\sklearn\\utils\\validation.py:63: DataConversionWarning: A column-vector y was passed when a 1d array was expected. Please change the shape of y to (n_samples, ), for example using ravel().\n",
      "  return f(*args, **kwargs)\n",
      "<ipython-input-54-4995a8175ff0>:2: SettingWithCopyWarning: \n",
      "A value is trying to be set on a copy of a slice from a DataFrame.\n",
      "Try using .loc[row_indexer,col_indexer] = value instead\n",
      "\n",
      "See the caveats in the documentation: https://pandas.pydata.org/pandas-docs/stable/user_guide/indexing.html#returning-a-view-versus-a-copy\n",
      "  x_train[cat_cols]=label.fit_transform(x_train[cat_cols])\n",
      "C:\\Users\\hemje\\anaconda3\\lib\\site-packages\\pandas\\core\\indexing.py:1676: SettingWithCopyWarning: \n",
      "A value is trying to be set on a copy of a slice from a DataFrame.\n",
      "Try using .loc[row_indexer,col_indexer] = value instead\n",
      "\n",
      "See the caveats in the documentation: https://pandas.pydata.org/pandas-docs/stable/user_guide/indexing.html#returning-a-view-versus-a-copy\n",
      "  self._setitem_single_column(ilocs[0], value, pi)\n"
     ]
    }
   ],
   "source": [
    "label=LabelEncoder()\n",
    "x_train[cat_cols]=label.fit_transform(x_train[cat_cols])"
   ]
  },
  {
   "cell_type": "code",
   "execution_count": 56,
   "id": "small-principle",
   "metadata": {},
   "outputs": [
    {
     "name": "stderr",
     "output_type": "stream",
     "text": [
      "<ipython-input-56-1ef53b797c95>:1: SettingWithCopyWarning: \n",
      "A value is trying to be set on a copy of a slice from a DataFrame.\n",
      "Try using .loc[row_indexer,col_indexer] = value instead\n",
      "\n",
      "See the caveats in the documentation: https://pandas.pydata.org/pandas-docs/stable/user_guide/indexing.html#returning-a-view-versus-a-copy\n",
      "  x_test['Tag']=label.transform(x_test['Tag'])\n"
     ]
    }
   ],
   "source": [
    "x_test['Tag']=label.transform(x_test['Tag'])"
   ]
  },
  {
   "cell_type": "code",
   "execution_count": 55,
   "id": "subsequent-aaron",
   "metadata": {},
   "outputs": [
    {
     "data": {
      "text/html": [
       "<div>\n",
       "<style scoped>\n",
       "    .dataframe tbody tr th:only-of-type {\n",
       "        vertical-align: middle;\n",
       "    }\n",
       "\n",
       "    .dataframe tbody tr th {\n",
       "        vertical-align: top;\n",
       "    }\n",
       "\n",
       "    .dataframe thead th {\n",
       "        text-align: right;\n",
       "    }\n",
       "</style>\n",
       "<table border=\"1\" class=\"dataframe\">\n",
       "  <thead>\n",
       "    <tr style=\"text-align: right;\">\n",
       "      <th></th>\n",
       "      <th>Tag</th>\n",
       "      <th>Reputation</th>\n",
       "      <th>Answers</th>\n",
       "      <th>Views</th>\n",
       "    </tr>\n",
       "  </thead>\n",
       "  <tbody>\n",
       "    <tr>\n",
       "      <th>93343</th>\n",
       "      <td>1</td>\n",
       "      <td>82.0</td>\n",
       "      <td>6.0</td>\n",
       "      <td>38892.0</td>\n",
       "    </tr>\n",
       "    <tr>\n",
       "      <th>61238</th>\n",
       "      <td>5</td>\n",
       "      <td>50929.0</td>\n",
       "      <td>3.0</td>\n",
       "      <td>4500.0</td>\n",
       "    </tr>\n",
       "    <tr>\n",
       "      <th>154886</th>\n",
       "      <td>2</td>\n",
       "      <td>12272.0</td>\n",
       "      <td>2.0</td>\n",
       "      <td>227.0</td>\n",
       "    </tr>\n",
       "    <tr>\n",
       "      <th>305992</th>\n",
       "      <td>7</td>\n",
       "      <td>1361.0</td>\n",
       "      <td>3.0</td>\n",
       "      <td>875.0</td>\n",
       "    </tr>\n",
       "    <tr>\n",
       "      <th>58337</th>\n",
       "      <td>3</td>\n",
       "      <td>731.0</td>\n",
       "      <td>3.0</td>\n",
       "      <td>3895.0</td>\n",
       "    </tr>\n",
       "    <tr>\n",
       "      <th>...</th>\n",
       "      <td>...</td>\n",
       "      <td>...</td>\n",
       "      <td>...</td>\n",
       "      <td>...</td>\n",
       "    </tr>\n",
       "    <tr>\n",
       "      <th>129741</th>\n",
       "      <td>4</td>\n",
       "      <td>13845.0</td>\n",
       "      <td>5.0</td>\n",
       "      <td>17228.0</td>\n",
       "    </tr>\n",
       "    <tr>\n",
       "      <th>321886</th>\n",
       "      <td>1</td>\n",
       "      <td>1592.0</td>\n",
       "      <td>8.0</td>\n",
       "      <td>35732.0</td>\n",
       "    </tr>\n",
       "    <tr>\n",
       "      <th>161194</th>\n",
       "      <td>8</td>\n",
       "      <td>4026.0</td>\n",
       "      <td>6.0</td>\n",
       "      <td>17737.0</td>\n",
       "    </tr>\n",
       "    <tr>\n",
       "      <th>124829</th>\n",
       "      <td>3</td>\n",
       "      <td>586.0</td>\n",
       "      <td>4.0</td>\n",
       "      <td>3612.0</td>\n",
       "    </tr>\n",
       "    <tr>\n",
       "      <th>323555</th>\n",
       "      <td>6</td>\n",
       "      <td>1289.0</td>\n",
       "      <td>7.0</td>\n",
       "      <td>10546.0</td>\n",
       "    </tr>\n",
       "  </tbody>\n",
       "</table>\n",
       "<p>249492 rows × 4 columns</p>\n",
       "</div>"
      ],
      "text/plain": [
       "        Tag  Reputation  Answers    Views\n",
       "93343     1        82.0      6.0  38892.0\n",
       "61238     5     50929.0      3.0   4500.0\n",
       "154886    2     12272.0      2.0    227.0\n",
       "305992    7      1361.0      3.0    875.0\n",
       "58337     3       731.0      3.0   3895.0\n",
       "...     ...         ...      ...      ...\n",
       "129741    4     13845.0      5.0  17228.0\n",
       "321886    1      1592.0      8.0  35732.0\n",
       "161194    8      4026.0      6.0  17737.0\n",
       "124829    3       586.0      4.0   3612.0\n",
       "323555    6      1289.0      7.0  10546.0\n",
       "\n",
       "[249492 rows x 4 columns]"
      ]
     },
     "execution_count": 55,
     "metadata": {},
     "output_type": "execute_result"
    }
   ],
   "source": [
    "x_train"
   ]
  },
  {
   "cell_type": "code",
   "execution_count": 58,
   "id": "stylish-constant",
   "metadata": {},
   "outputs": [],
   "source": [
    "ct=ColumnTransformer([\n",
    "                      ('step2',StandardScaler(),num_cols)\n",
    "])"
   ]
  },
  {
   "cell_type": "code",
   "execution_count": 115,
   "id": "turned-converter",
   "metadata": {},
   "outputs": [],
   "source": [
    "pp=Pipeline([\n",
    "             ('step_1',ct),\n",
    "             ('setp_2',PolynomialFeatures(degree=2)),\n",
    "             ('model',LinearRegression())\n",
    "])"
   ]
  },
  {
   "cell_type": "code",
   "execution_count": 117,
   "id": "utility-conclusion",
   "metadata": {},
   "outputs": [
    {
     "name": "stdout",
     "output_type": "stream",
     "text": [
      "249.45390841669317\n"
     ]
    }
   ],
   "source": [
    "y_pred=pp.fit(x_train,y_train).predict(x_test )\n",
    "print(np.sqrt(mean_squared_error(y_test,y_pred)))"
   ]
  },
  {
   "cell_type": "code",
   "execution_count": 104,
   "id": "negative-mills",
   "metadata": {},
   "outputs": [
    {
     "name": "stdout",
     "output_type": "stream",
     "text": [
      "0.8812943069533041\n"
     ]
    }
   ],
   "source": [
    "print(r2_score(y_test,y_pred))"
   ]
  },
  {
   "cell_type": "code",
   "execution_count": 66,
   "id": "technological-insert",
   "metadata": {},
   "outputs": [],
   "source": [
    "new=pd.read_csv('F:\\Analytics vidya\\\\test.csv')"
   ]
  },
  {
   "cell_type": "code",
   "execution_count": 68,
   "id": "prepared-cancellation",
   "metadata": {},
   "outputs": [],
   "source": [
    "x_valid=new.drop(['ID','Username'],axis=1)"
   ]
  },
  {
   "cell_type": "code",
   "execution_count": 105,
   "id": "sunrise-attitude",
   "metadata": {},
   "outputs": [],
   "source": [
    "label1=LabelEncoder()"
   ]
  },
  {
   "cell_type": "code",
   "execution_count": 113,
   "id": "saved-azerbaijan",
   "metadata": {},
   "outputs": [],
   "source": [
    "x_valid['Tag']=label1.fit_transform(x_valid['Tag'])"
   ]
  },
  {
   "cell_type": "code",
   "execution_count": null,
   "id": "legendary-stanley",
   "metadata": {},
   "outputs": [],
   "source": []
  },
  {
   "cell_type": "code",
   "execution_count": 118,
   "id": "bibliographic-shore",
   "metadata": {},
   "outputs": [],
   "source": [
    "y_new=pp.predict(x_valid)\n",
    "pred=pd.DataFrame(y_new)\n",
    "pred=pd.concat([new['ID'],pred],axis=1)\n",
    "pred.columns=['ID','Upvotes']\n",
    "pred.to_csv('predict.csv',index=False)"
   ]
  },
  {
   "cell_type": "code",
   "execution_count": null,
   "id": "cordless-morning",
   "metadata": {},
   "outputs": [],
   "source": []
  }
 ],
 "metadata": {
  "kernelspec": {
   "display_name": "Python 3",
   "language": "python",
   "name": "python3"
  },
  "language_info": {
   "codemirror_mode": {
    "name": "ipython",
    "version": 3
   },
   "file_extension": ".py",
   "mimetype": "text/x-python",
   "name": "python",
   "nbconvert_exporter": "python",
   "pygments_lexer": "ipython3",
   "version": "3.8.3"
  }
 },
 "nbformat": 4,
 "nbformat_minor": 5
}
